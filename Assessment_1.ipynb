{
 "cells": [
  {
   "cell_type": "markdown",
   "metadata": {},
   "source": [
    "The textfile, travel_plans.txt, contains the summer travel plans for someone with some commentary. Find the total number of characters in the file and save to the variable num"
   ]
  },
  {
   "cell_type": "code",
   "execution_count": null,
   "metadata": {},
   "outputs": [],
   "source": [
    "with open(\"travel_plans.txt\",'r') as file_t:\n",
    "    num=len(file_t.read())\n",
    "    print(num)"
   ]
  },
  {
   "cell_type": "markdown",
   "metadata": {},
   "source": [
    "We have provided a file called emotion_words.txt that contains lines of words that describe emotions. Find the total number of words in the file and assign this value to the variable num_words."
   ]
  },
  {
   "cell_type": "code",
   "execution_count": null,
   "metadata": {},
   "outputs": [],
   "source": [
    "num_words=0\n",
    "\n",
    "with open(\"emotion_words.txt\",\"r\") as file_e:\n",
    "    lines=file_e.readlines()\n",
    "for line in lines:\n",
    "    for word in line.split(\" \"):\n",
    "        num_words+=1\n",
    "    \n",
    "\n",
    "    \n",
    "print(lines)\n",
    "print(num_words)"
   ]
  },
  {
   "cell_type": "markdown",
   "metadata": {},
   "source": [
    "Assign to the variable num_lines the number of lines in the file school_prompt.txt."
   ]
  },
  {
   "cell_type": "code",
   "execution_count": null,
   "metadata": {},
   "outputs": [],
   "source": [
    "with open(\"school_prompt.txt\",\"r\") as file_s:\n",
    "    num_lines=len(file_s.readlines())\n",
    "    print(num_lines)"
   ]
  },
  {
   "cell_type": "markdown",
   "metadata": {},
   "source": [
    "Assign the first 30 characters of school_prompt.txt as a string to the variable beginning_chars."
   ]
  },
  {
   "cell_type": "code",
   "execution_count": null,
   "metadata": {},
   "outputs": [],
   "source": [
    "\n",
    "with open(\"school_prompt.txt\",\"r\") as file_s:\n",
    "    beginning_chars=file_s.read(30)\n",
    "    print(beginning_chars)"
   ]
  },
  {
   "cell_type": "markdown",
   "metadata": {},
   "source": [
    "Challenge: Using the file school_prompt.txt, assign the third word of every line to a list called three."
   ]
  },
  {
   "cell_type": "code",
   "execution_count": null,
   "metadata": {},
   "outputs": [],
   "source": [
    "three=[]\n",
    "\n",
    "with open(\"school_prompt.txt\",\"r\") as file_s:\n",
    "    lines=file_s.readlines()\n",
    "for line in lines:\n",
    "    words=line.split(\" \")\n",
    "    three.append(words[2])\n",
    "print(three)"
   ]
  },
  {
   "cell_type": "markdown",
   "metadata": {},
   "source": [
    "Challenge: Create a list called emotions that contains the first word of every line in emotion_words.txt.\n",
    "\n"
   ]
  },
  {
   "cell_type": "code",
   "execution_count": null,
   "metadata": {},
   "outputs": [],
   "source": [
    "emotions=[]\n",
    "\n",
    "with open(\"emotion_words.txt\",\"r\") as file_e:\n",
    "    lines=file_e.readlines()\n",
    "for line in lines:\n",
    "    words=line.split(\" \")\n",
    "    emotions.append(words[0])\n",
    "print(emotions)"
   ]
  },
  {
   "cell_type": "markdown",
   "metadata": {},
   "source": [
    "Assign the first 33 characters from the textfile, travel_plans.txt to the variable first_chars."
   ]
  },
  {
   "cell_type": "code",
   "execution_count": null,
   "metadata": {},
   "outputs": [],
   "source": [
    "with open(\"travel_plans.txt\", \"r\") as file_t:\n",
    "    data=file_t.read()\n",
    "    first_chars=data[:33]\n",
    "print(first_chars)"
   ]
  },
  {
   "cell_type": "markdown",
   "metadata": {},
   "source": [
    "Challenge: Using the file school_prompt.txt, if the character ‘p’ is in a word, then add the word to a list called p_words."
   ]
  },
  {
   "cell_type": "code",
   "execution_count": null,
   "metadata": {},
   "outputs": [],
   "source": [
    "p_words=[]\n",
    "\n",
    "with open(\"school_prompt.txt\",\"r\") as file_s:\n",
    "    data=file_s.read()\n",
    "    lines=data.split(\"\\n\")\n",
    "for line in lines:\n",
    "    for word in line.split(\" \"):\n",
    "        if \"p\" in word:\n",
    "            p_words.append(word)\n",
    "print(p_words)\n",
    "    "
   ]
  }
 ],
 "metadata": {
  "kernelspec": {
   "display_name": "Python 3",
   "language": "python",
   "name": "python3"
  },
  "language_info": {
   "codemirror_mode": {
    "name": "ipython",
    "version": 3
   },
   "file_extension": ".py",
   "mimetype": "text/x-python",
   "name": "python",
   "nbconvert_exporter": "python",
   "pygments_lexer": "ipython3",
   "version": "3.7.4"
  }
 },
 "nbformat": 4,
 "nbformat_minor": 2
}
