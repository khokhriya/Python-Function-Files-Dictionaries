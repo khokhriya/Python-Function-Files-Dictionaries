{
 "cells": [
  {
   "cell_type": "markdown",
   "metadata": {},
   "source": [
    "#### Q Sort the following string alphabetically, from z to a, and assign it to the variable sorted_letters."
   ]
  },
  {
   "cell_type": "code",
   "execution_count": 54,
   "metadata": {},
   "outputs": [
    {
     "data": {
      "text/plain": [
       "['z',\n",
       " 'w',\n",
       " 'w',\n",
       " 'u',\n",
       " 's',\n",
       " 's',\n",
       " 'n',\n",
       " 'l',\n",
       " 'l',\n",
       " 'l',\n",
       " 'k',\n",
       " 'j',\n",
       " 'i',\n",
       " 'i',\n",
       " 'f',\n",
       " 'e',\n",
       " 'e',\n",
       " 'd',\n",
       " 'a',\n",
       " 'a',\n",
       " 'a',\n",
       " 'a']"
      ]
     },
     "execution_count": 54,
     "metadata": {},
     "output_type": "execute_result"
    }
   ],
   "source": [
    "letters = \"alwnfiwaksuezlaeiajsdl\"\n",
    "sorted_letters= sorted(letters,reverse=True)\n",
    "sorted_letters"
   ]
  },
  {
   "cell_type": "markdown",
   "metadata": {},
   "source": [
    "#### Q Sort the list below, animals, into alphabetical order, a-z. Save the new list as animals_sorted.\n",
    "\n"
   ]
  },
  {
   "cell_type": "code",
   "execution_count": 55,
   "metadata": {},
   "outputs": [
    {
     "data": {
      "text/plain": [
       "['antelope',\n",
       " 'bear',\n",
       " 'cat',\n",
       " 'cow',\n",
       " 'deer',\n",
       " 'elephant',\n",
       " 'elk',\n",
       " 'giraffe',\n",
       " 'goat',\n",
       " 'minx',\n",
       " 'moose',\n",
       " 'otter',\n",
       " 'rabbit',\n",
       " 'salamander',\n",
       " 'tiger',\n",
       " 'yak',\n",
       " 'zebra']"
      ]
     },
     "execution_count": 55,
     "metadata": {},
     "output_type": "execute_result"
    }
   ],
   "source": [
    "\n",
    "animals = ['elephant', 'cat', 'moose', 'antelope', 'elk', 'rabbit', 'zebra', 'yak', 'salamander', 'deer', 'otter', 'minx', 'giraffe', 'goat', 'cow', 'tiger', 'bear']\n",
    "animals_sorted=sorted(animals,reverse=False)\n",
    "animals_sorted"
   ]
  },
  {
   "cell_type": "markdown",
   "metadata": {},
   "source": [
    "#### Q The dictionary, medals, shows the medal count for six countries during the Rio Olympics. Sort the country names so they appear alphabetically. Save this list to the variable alphabetical."
   ]
  },
  {
   "cell_type": "code",
   "execution_count": 56,
   "metadata": {},
   "outputs": [
    {
     "data": {
      "text/plain": [
       "['China', 'Germany', 'Japan', 'Russia', 'South Korea', 'United States']"
      ]
     },
     "execution_count": 56,
     "metadata": {},
     "output_type": "execute_result"
    }
   ],
   "source": [
    "medals = {'Japan':41, 'Russia':56, 'South Korea':21, 'United States':121, 'Germany':42, 'China':70}\n",
    "nmedals=medals.keys()\n",
    "alphabetical=sorted(nmedals)\n",
    "alphabetical"
   ]
  },
  {
   "cell_type": "markdown",
   "metadata": {},
   "source": [
    "#### Q Given the same dictionary, medals, now sort by the medal count. Save the three countries with the highest medal count to the list, top_three."
   ]
  },
  {
   "cell_type": "code",
   "execution_count": 57,
   "metadata": {},
   "outputs": [
    {
     "data": {
      "text/plain": [
       "['United States', 'China', 'Russia']"
      ]
     },
     "execution_count": 57,
     "metadata": {},
     "output_type": "execute_result"
    }
   ],
   "source": [
    "medals = {'Japan':41, 'Russia':56, 'South Korea':21, 'United States':121, 'Germany':42, 'China':70}\n",
    "k=medals.keys()\n",
    "sorted_values=sorted(k,key=lambda k:medals[k],reverse=True)\n",
    "top_three=sorted_values[:3]\n",
    "top_three"
   ]
  },
  {
   "cell_type": "markdown",
   "metadata": {},
   "source": [
    "#### Q We have provided the dictionary groceries. You should return a list of its keys, but they should be sorted by their values, from highest to lowest. Save the new list as most_needed."
   ]
  },
  {
   "cell_type": "code",
   "execution_count": 58,
   "metadata": {},
   "outputs": [
    {
     "data": {
      "text/plain": [
       "['granola bars',\n",
       " 'carrots',\n",
       " 'spinach',\n",
       " 'bananas',\n",
       " 'onions',\n",
       " 'apples',\n",
       " 'coffee',\n",
       " 'cereal',\n",
       " 'pasta',\n",
       " 'salsa',\n",
       " 'orange juice',\n",
       " 'peanut butter',\n",
       " 'popcorn',\n",
       " 'rice']"
      ]
     },
     "execution_count": 58,
     "metadata": {},
     "output_type": "execute_result"
    }
   ],
   "source": [
    "\n",
    "groceries = {'apples': 5, 'pasta': 3, 'carrots': 12, 'orange juice': 2, 'bananas': 8, 'popcorn': 1, 'salsa': 3, 'cereal': 4, 'coffee': 5, 'granola bars': 15, 'onions': 7, 'rice': 1, 'peanut butter': 2, 'spinach': 9}\n",
    "k=groceries.keys()\n",
    "most_needed=sorted(k,key=lambda k:groceries[k],reverse=True)\n",
    "most_needed\n"
   ]
  },
  {
   "cell_type": "markdown",
   "metadata": {},
   "source": [
    "#### Q Create a function called last_four that takes in an ID number and returns the last four digits. For example, the number 17573005 should return 3005. Then, use this function to sort the list of ids stored in the variable, ids, from lowest to highest. Save this sorted list in the variable, sorted_ids. Hint: Remember that only strings can be indexed, so conversions may be needed."
   ]
  },
  {
   "cell_type": "code",
   "execution_count": 59,
   "metadata": {},
   "outputs": [
    {
     "data": {
      "text/plain": [
       "[17570002, 17572342, 17572345, 17573005, 17579000, 17579329]"
      ]
     },
     "execution_count": 59,
     "metadata": {},
     "output_type": "execute_result"
    }
   ],
   "source": [
    "def last_four(x):\n",
    "    str1=str(x)\n",
    "    lst=str1[-4:]\n",
    "    num=int(lst)\n",
    "    return num\n",
    "ids = [17573005, 17572342, 17579000, 17570002, 17572345, 17579329]\n",
    "\n",
    "#lst1=last_four(ids)\n",
    "sorted_ids=sorted(ids,key=last_four)\n",
    "sorted_ids"
   ]
  },
  {
   "cell_type": "markdown",
   "metadata": {},
   "source": [
    "#### Q Sort the list ids by the last four digits of each id. Do this using lambda and not using a defined function. Save this sorted list in the variable sorted_id."
   ]
  },
  {
   "cell_type": "code",
   "execution_count": 60,
   "metadata": {},
   "outputs": [
    {
     "data": {
      "text/plain": [
       "[17570002, 17572342, 17572345, 17573005, 17579000, 17579329]"
      ]
     },
     "execution_count": 60,
     "metadata": {},
     "output_type": "execute_result"
    }
   ],
   "source": [
    "ids = [17573005, 17572342, 17579000, 17570002, 17572345, 17579329]\n",
    "sorted_id=sorted(ids,key=lambda k:int(str(k)[-4:]))\n",
    "sorted_id"
   ]
  },
  {
   "cell_type": "markdown",
   "metadata": {},
   "source": [
    "#### Q Sort the following list by each element’s second letter a to z. Do so by using lambda. Assign the resulting value to the variable lambda_sort."
   ]
  },
  {
   "cell_type": "code",
   "execution_count": 53,
   "metadata": {},
   "outputs": [
    {
     "name": "stdout",
     "output_type": "stream",
     "text": [
      "['dance', 'zebra', 'hi', 'how are you', 'apple', 'bye']\n"
     ]
    }
   ],
   "source": [
    "ex_lst = ['hi', 'how are you', 'bye', 'apple', 'zebra', 'dance']\n",
    "lambda_sort= sorted(ex_lst,key=lambda k:k[1] )\n",
    "print(lambda_sort)"
   ]
  }
 ],
 "metadata": {
  "kernelspec": {
   "display_name": "Python 3",
   "language": "python",
   "name": "python3"
  },
  "language_info": {
   "codemirror_mode": {
    "name": "ipython",
    "version": 3
   },
   "file_extension": ".py",
   "mimetype": "text/x-python",
   "name": "python",
   "nbconvert_exporter": "python",
   "pygments_lexer": "ipython3",
   "version": "3.7.4"
  }
 },
 "nbformat": 4,
 "nbformat_minor": 2
}
