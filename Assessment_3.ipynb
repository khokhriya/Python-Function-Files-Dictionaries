{
 "cells": [
  {
   "cell_type": "markdown",
   "metadata": {},
   "source": [
    "## Questions(1-9)"
   ]
  },
  {
   "cell_type": "markdown",
   "metadata": {},
   "source": [
    "#### The dictionary Junior shows a schedule for a junior year semester. The key is the course name and the value is the number of credits. Find the total number of credits taken this semester and assign it to the variable credits. Do not hardcode this – use dictionary accumulation!"
   ]
  },
  {
   "cell_type": "code",
   "execution_count": 2,
   "metadata": {},
   "outputs": [
    {
     "name": "stdout",
     "output_type": "stream",
     "text": [
      "3\n"
     ]
    }
   ],
   "source": [
    "Junior = {'SI 206':4, 'SI 310':4, 'BL 300':3, 'TO 313':3, 'BCOM 350':1, 'MO 300':3}\n",
    "credits=0\n",
    "for credit in Junior.values():\n",
    "    credits+=credit\n",
    "print(credit)"
   ]
  },
  {
   "cell_type": "markdown",
   "metadata": {},
   "source": [
    "#### Create a dictionary, freq, that displays each character in string str1 as the key and its frequency as the value.\n",
    "\n"
   ]
  },
  {
   "cell_type": "code",
   "execution_count": 3,
   "metadata": {},
   "outputs": [
    {
     "name": "stdout",
     "output_type": "stream",
     "text": [
      "{'p': 9, 'e': 8, 't': 1, 'r': 3, ' ': 7, 'i': 3, 'c': 3, 'k': 3, 'd': 2, 'a': 1, 'o': 1, 'f': 1, 'l': 1, 's': 1}\n"
     ]
    }
   ],
   "source": [
    "str1 = \"peter piper picked a peck of pickled peppers\"\n",
    "freq1=dict()\n",
    "def word_count(str):\n",
    "     \n",
    "\n",
    "    for char in str:\n",
    "        if char in freq1:\n",
    "            freq1[char] += 1\n",
    "        else:\n",
    "            freq1[char] = 1\n",
    "\n",
    "    return freq1\n",
    "\n",
    "freq = word_count(str1)\n",
    "print(freq)"
   ]
  },
  {
   "cell_type": "markdown",
   "metadata": {},
   "source": [
    "#### Provided is a string saved to the variable name s1. Create a dictionary named counts that contains each letter in s1 and the number of times it occurs.\n",
    "\n"
   ]
  },
  {
   "cell_type": "code",
   "execution_count": 4,
   "metadata": {},
   "outputs": [
    {
     "name": "stdout",
     "output_type": "stream",
     "text": [
      "{'h': 1, 'e': 1, 'l': 2, 'o': 1}\n"
     ]
    }
   ],
   "source": [
    "s1 = \"hello\"\n",
    "freq1=dict()\n",
    "def word_count(str):\n",
    "    for char in str:\n",
    "        if char in freq1:\n",
    "            freq1[char] += 1\n",
    "        else:\n",
    "            freq1[char] = 1\n",
    "\n",
    "    return freq1\n",
    "\n",
    "counts = word_count(s1)\n",
    "print(counts)\n"
   ]
  },
  {
   "cell_type": "markdown",
   "metadata": {},
   "source": [
    "#### Create a dictionary, freq_words, that contains each word in string str1 as the key and its frequency as the value."
   ]
  },
  {
   "cell_type": "code",
   "execution_count": 6,
   "metadata": {},
   "outputs": [
    {
     "name": "stdout",
     "output_type": "stream",
     "text": [
      "{'I': 2, 'wish': 2, 'with': 2, 'all': 1, 'my': 1, 'heart': 1, 'to': 1, 'fly': 1, 'dragons': 1, 'in': 1, 'a': 1, 'land': 1, 'apart': 1}\n"
     ]
    }
   ],
   "source": [
    "str1 = \"I wish I wish with all my heart to fly with dragons in a land apart\"\n",
    "def word_count(str):\n",
    "    counts = dict()\n",
    "    words = str.split()\n",
    "\n",
    "    for word in words:\n",
    "        if word in counts:\n",
    "            counts[word] += 1\n",
    "        else:\n",
    "            counts[word] = 1\n",
    "\n",
    "    return counts\n",
    "\n",
    "freq_words = word_count(str1)\n",
    "print(freq_words)\n"
   ]
  },
  {
   "cell_type": "markdown",
   "metadata": {},
   "source": [
    "#### Create a  dictionary called wrd_d from the string sent, so that the key is a word and the value is how many times you have seen that word."
   ]
  },
  {
   "cell_type": "code",
   "execution_count": 8,
   "metadata": {},
   "outputs": [
    {
     "name": "stdout",
     "output_type": "stream",
     "text": [
      "{'Singing': 1, 'in': 2, 'the': 2, 'rain': 2, 'and': 1, 'playing': 1, 'are': 1, 'two': 1, 'entirely': 1, 'different': 1, 'situations': 1, 'but': 1, 'both': 1, 'can': 1, 'be': 1, 'good': 1}\n"
     ]
    }
   ],
   "source": [
    "sent = \"Singing in the rain and playing in the rain are two entirely different situations but both can be good\"\n",
    "def word_count(str):\n",
    "    counts = dict()\n",
    "    words = str.split()\n",
    "\n",
    "    for word in words:\n",
    "        if word in counts:\n",
    "            counts[word] += 1\n",
    "        else:\n",
    "            counts[word] = 1\n",
    "\n",
    "    return counts\n",
    "\n",
    "wrd_d = word_count(sent)\n",
    "print(wrd_d)\n",
    "\n"
   ]
  },
  {
   "cell_type": "markdown",
   "metadata": {},
   "source": [
    "#### Create the dictionary characters that shows each character from the string sally and its frequency. Then, find the most frequent letter based on the dictionary. Assign this letter to the variable best_char.\n",
    "\n"
   ]
  },
  {
   "cell_type": "code",
   "execution_count": 10,
   "metadata": {},
   "outputs": [
    {
     "name": "stdout",
     "output_type": "stream",
     "text": [
      "{'s': 8, 'a': 3, 'l': 6, 'y': 2, ' ': 7, 'e': 6, 'h': 3, 'b': 1, 't': 1, 'o': 1, 'r': 1}\n",
      "key s has the highest value, 8\n"
     ]
    }
   ],
   "source": [
    "sally = \"sally sells sea shells by the sea shore\"\n",
    "freq1=dict()\n",
    "def word_count(str):\n",
    "    for char in str:\n",
    "        if char in freq1:\n",
    "            freq1[char] += 1\n",
    "        else:\n",
    "            freq1[char] = 1\n",
    "\n",
    "    return freq1\n",
    "\n",
    "characters = word_count(sally)\n",
    "print(characters)\n",
    "ks = characters.keys()\n",
    "best_char = list(ks)[0]  # Have to turn ks into a real list before using [] to select an item\n",
    "for k in ks:\n",
    "    if characters[k] > characters[best_char]:\n",
    "        best_char = k\n",
    "\n",
    "print(\"key \" + best_char + \" has the highest value, \" + str(characters[best_char]))"
   ]
  },
  {
   "cell_type": "markdown",
   "metadata": {},
   "source": [
    "#### Find the least frequent letter. Create the dictionary characters that shows each character from string sally and its frequency. Then, find the least frequent letter in the string and assign the letter to the variable worst_char.\n",
    "\n"
   ]
  },
  {
   "cell_type": "code",
   "execution_count": 12,
   "metadata": {},
   "outputs": [
    {
     "name": "stdout",
     "output_type": "stream",
     "text": [
      "{'s': 8, 'a': 5, 'l': 6, 'y': 3, ' ': 11, 'e': 7, 'h': 4, 'b': 2, 't': 2, 'o': 2, 'r': 2, 'n': 1, 'd': 2}\n",
      "key n has the highest value, 1\n"
     ]
    }
   ],
   "source": [
    "sally = \"sally sells sea shells by the sea shore and by the road\"\n",
    "freq1=dict()\n",
    "def word_count(str):\n",
    "    for char in str:\n",
    "        if char in freq1:\n",
    "            freq1[char] += 1\n",
    "        else:\n",
    "            freq1[char] = 1\n",
    "\n",
    "    return freq1\n",
    "\n",
    "characters = word_count(sally)\n",
    "print(characters)\n",
    "ks = characters.keys()\n",
    "worst_char = list(ks)[0]  # Have to turn ks into a real list before using [] to select an item\n",
    "for k in ks:\n",
    "    if characters[k] < characters[worst_char]:\n",
    "        worst_char = k\n",
    "\n",
    "print(\"key \" + worst_char + \" has the highest value, \" + str(characters[worst_char]))\n"
   ]
  },
  {
   "cell_type": "markdown",
   "metadata": {},
   "source": [
    "#### Create a dictionary named letter_counts that contains each letter and the number of times it occurs in string1. Challenge: Letters should not be counted separately as upper-case and lower-case. Intead, all of them should be counted as lower-case.\n",
    "\n"
   ]
  },
  {
   "cell_type": "code",
   "execution_count": 14,
   "metadata": {},
   "outputs": [
    {
     "name": "stdout",
     "output_type": "stream",
     "text": [
      "{'t': 19, 'h': 11, 'e': 29, 'r': 12, ' ': 53, 'i': 14, 's': 15, 'a': 17, 'd': 7, 'n': 15, 'f': 9, 'o': 17, 'm': 4, ',': 4, 'w': 6, 'c': 3, 'k': 2, 'l': 11, 'u': 8, '.': 4, 'v': 3, 'y': 1, 'g': 1, 'b': 1}\n"
     ]
    }
   ],
   "source": [
    "string1 = \"There is a tide in the affairs of men, Which taken at the flood, leads on to fortune. Omitted, all the voyage of their life is bound in shallows and in miseries. On such a full sea are we now afloat. And we must take the current when it serves, or lose our ventures.\"\n",
    "string = string1.lower()\n",
    "freq1=dict()\n",
    "def word_count(str):\n",
    "    for char in str:\n",
    "        if char in freq1:\n",
    "            freq1[char] += 1\n",
    "        else:\n",
    "            freq1[char] = 1\n",
    "\n",
    "    return freq1\n",
    "\n",
    "letter_counts = word_count(string)\n",
    "print(letter_counts)\n"
   ]
  },
  {
   "cell_type": "markdown",
   "metadata": {},
   "source": [
    "#### Create a dictionary called low_d that keeps track of all the characters in the string p and notes how many times each character was seen. Make sure that there are no repeats of characters as keys, such that “T” and “t” are both seen as a “t” for example.\n",
    "\n"
   ]
  },
  {
   "cell_type": "code",
   "execution_count": 16,
   "metadata": {},
   "outputs": [
    {
     "name": "stdout",
     "output_type": "stream",
     "text": [
      "{'s': 5, 'u': 7, 'm': 3, 'e': 12, 'r': 3, ' ': 20, 'i': 3, 'a': 6, 'g': 3, 't': 9, 'o': 8, 'd': 1, '.': 2, 'y': 1, 'h': 6, 'v': 1, 'b': 2, 'c': 2, 'f': 3, 'l': 1, 'n': 1}\n"
     ]
    }
   ],
   "source": [
    "p = \"Summer is a great time to go outside. You have to be careful of the sun though because of the heat.\"\n",
    "s=p.lower()\n",
    "freq1=dict()\n",
    "def word_count(str):\n",
    "    for char in str:\n",
    "        if char in freq1:\n",
    "            freq1[char] += 1\n",
    "        else:\n",
    "            freq1[char] = 1\n",
    "\n",
    "    return freq1\n",
    "\n",
    "low_d = word_count(s)\n",
    "print(low_d)\n"
   ]
  },
  {
   "cell_type": "code",
   "execution_count": null,
   "metadata": {},
   "outputs": [],
   "source": []
  }
 ],
 "metadata": {
  "kernelspec": {
   "display_name": "Python 3",
   "language": "python",
   "name": "python3"
  },
  "language_info": {
   "codemirror_mode": {
    "name": "ipython",
    "version": 3
   },
   "file_extension": ".py",
   "mimetype": "text/x-python",
   "name": "python",
   "nbconvert_exporter": "python",
   "pygments_lexer": "ipython3",
   "version": "3.7.4"
  }
 },
 "nbformat": 4,
 "nbformat_minor": 2
}
